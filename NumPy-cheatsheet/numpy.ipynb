{
 "metadata": {
  "language_info": {
   "codemirror_mode": {
    "name": "ipython",
    "version": 3
   },
   "file_extension": ".py",
   "mimetype": "text/x-python",
   "name": "python",
   "nbconvert_exporter": "python",
   "pygments_lexer": "ipython3",
   "version": "3.8.5-final"
  },
  "orig_nbformat": 2,
  "kernelspec": {
   "name": "python3",
   "display_name": "Python 3.8.5 64-bit",
   "metadata": {
    "interpreter": {
     "hash": "767d51c1340bd893661ea55ea3124f6de3c7a262a8b4abca0554b478b1e2ff90"
    }
   }
  }
 },
 "nbformat": 4,
 "nbformat_minor": 2,
 "cells": [
  {
   "source": [
    "# NumPy\n",
    "### NumPy is a Python library used for working with arrays. It also has functions for working in domain of linear algebra, fourier transform, and matrices. NumPy was created in 2005 by Travis Oliphant. It is an open source project and you can use it freely. </br>\n",
    "\n",
    "> step->1 Install numpy in your environment using pip.\n",
    "> step->2 Import numpy via the following command.\n",
    "```python\n",
    "import numpy as np\n",
    "```"
   ],
   "cell_type": "markdown",
   "metadata": {}
  },
  {
   "cell_type": "code",
   "execution_count": 1,
   "metadata": {},
   "outputs": [],
   "source": [
    "import numpy as np"
   ]
  },
  {
   "source": [
    "## Populate an array with specific values."
   ],
   "cell_type": "markdown",
   "metadata": {}
  },
  {
   "cell_type": "code",
   "execution_count": 2,
   "metadata": {},
   "outputs": [
    {
     "output_type": "stream",
     "name": "stdout",
     "text": [
      "[1 2 3 4 5]\n"
     ]
    }
   ],
   "source": [
    "my_array= np.array([1,2,3,4,5])\n",
    "print(my_array)"
   ]
  },
  {
   "source": [
    "## Populate array with sequence of numbers."
   ],
   "cell_type": "markdown",
   "metadata": {}
  },
  {
   "cell_type": "code",
   "execution_count": 3,
   "metadata": {},
   "outputs": [
    {
     "output_type": "stream",
     "name": "stdout",
     "text": [
      "[-10  -8  -6  -4  -2   0   2   4   6   8]\n"
     ]
    }
   ],
   "source": [
    "my_array1= np.arange(-10,10,2)\n",
    "print(my_array1)"
   ]
  },
  {
   "source": [
    "## Populate an array with random numbers b/w a range."
   ],
   "cell_type": "markdown",
   "metadata": {}
  },
  {
   "cell_type": "code",
   "execution_count": 6,
   "metadata": {},
   "outputs": [
    {
     "output_type": "stream",
     "name": "stdout",
     "text": [
      "[ 89  27  87  76  -1  72 -60  -2 -28  84  72 -25 -16 -66 -36  -6  -8 -87\n -86 -30]\n20\n"
     ]
    }
   ],
   "source": [
    "my_array2= np.random.randint(low=-100, high=100, size=(20)) #high is exclusive.\n",
    "print(my_array2)\n",
    "print(len(my_array2)) #Verify"
   ]
  },
  {
   "source": [
    "## Random floats between two and three.\n",
    "```python\n",
    "numpy.random.random(size=n)\n",
    "```\n",
    "> #Returns a numpy array of size n, filled with random floating point constants b/w 0 and 1."
   ],
   "cell_type": "markdown",
   "metadata": {}
  },
  {
   "cell_type": "code",
   "execution_count": 7,
   "metadata": {},
   "outputs": [
    {
     "output_type": "stream",
     "name": "stdout",
     "text": [
      "[2.94398831 2.3214504  2.15831189 2.05322246 2.90391915 2.46548991\n 2.26343076 2.66306544 2.76096554 2.22986495]\n"
     ]
    }
   ],
   "source": [
    "my_array3= 2.0+ np.random.random(size=(10)) \n",
    "print(my_array3)"
   ]
  },
  {
   "source": [
    "## Task-1 Create a linear dataset.\n",
    "### Your goal is to create a simple dataset consisting of a single feature and a label as follows: <br/>\n",
    "\n",
    "### 1.Assign a sequence of integers from 6 to 20 (inclusive) to a NumPy array named feature.<br/>\n",
    "### 2.Assign 15 values to a NumPy array named label such that:<br/>\n",
    "``` label = (3)(feature) +4 ```"
   ],
   "cell_type": "markdown",
   "metadata": {}
  },
  {
   "cell_type": "code",
   "execution_count": 18,
   "metadata": {},
   "outputs": [
    {
     "output_type": "stream",
     "name": "stdout",
     "text": [
      "Feature: [ 6  7  8  9 10 11 12 13 14 15 16 17 18 19 20]\nLabel: [22 25 28 31 34 37 40 43 46 49 52 55 58 61 64]\n"
     ]
    }
   ],
   "source": [
    "feature= np.arange(6, 21)\n",
    "print(\"Feature:\",feature)\n",
    "label= feature*3 +4\n",
    "print(\"Label:\",label)"
   ]
  },
  {
   "source": [
    "## Add a random noise of +/- 2 to the label dataset to give a taste of reality."
   ],
   "cell_type": "markdown",
   "metadata": {}
  },
  {
   "cell_type": "code",
   "execution_count": 22,
   "metadata": {},
   "outputs": [
    {
     "output_type": "stream",
     "name": "stdout",
     "text": [
      "[25.64137147 27.74575037 29.36503597 34.66450162 37.25703633 38.39781969\n 41.12428762 46.9722818  49.87259926 49.37944102 52.53114132 55.63779321\n 59.21199424 64.95252248 65.99183429]\n"
     ]
    }
   ],
   "source": [
    "noise= np.random.random(size=(15))*4\n",
    "label= np.add(label,noise)\n",
    "print(label)"
   ]
  },
  {
   "cell_type": "code",
   "execution_count": null,
   "metadata": {},
   "outputs": [],
   "source": []
  }
 ]
}